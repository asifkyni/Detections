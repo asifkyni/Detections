{
 "cells": [
  {
   "cell_type": "markdown",
   "id": "bac8c02a-5e27-4703-9f6a-88e518e203e9",
   "metadata": {},
   "source": [
    "### Inspiration:\n",
    "* Purpose: to object detection in images by using YOLOv8.\n",
    "\n",
    "*Object detection* is a computer technology related to computer vision and image processing that deals with detecting instances of semantic objects of a certain class (such as humans, buildings, or cars) in digital images and videos. When it comes to object detection, popular detection frameworks are\n",
    "\n",
    "* YOLO\n",
    "* SSD\n",
    "* Faster R-CNN"
   ]
  },
  {
   "cell_type": "markdown",
   "id": "e6013f64-1ac5-4dbb-9da3-f9fc825d161c",
   "metadata": {},
   "source": [
    "## What is YOLO exactly?\n",
    "\n"
   ]
  },
  {
   "cell_type": "markdown",
   "id": "3e16b2f4-6834-4d3b-83aa-be823bda1053",
   "metadata": {},
   "source": [
    "YOLO (You Only Look Once) is a method / way to do object detection. It is the algorithm /strategy behind how the code is going to detect objects in the image.\n",
    "\n",
    "Earlier detection frameworks, looked at different parts of the image multiple times at different scales and repurposed image classification technique to detect objects. This approach is slow and inefficient.\n",
    "\n",
    "YOLO takes entirely different approach. It looks at the entire image only once and goes through the network once and detects objects. Hence the name. It is very fast. That’s the reason it has got so popular."
   ]
  },
  {
   "cell_type": "markdown",
   "id": "76b2fec2-64d2-4d5f-9730-b95a48de9d03",
   "metadata": {},
   "source": [
    "### Import Libraries\n",
    "\n"
   ]
  },
  {
   "cell_type": "code",
   "execution_count": 2,
   "id": "4669b2a1-5da2-438a-b0d0-b6b5b2341f2a",
   "metadata": {},
   "outputs": [],
   "source": [
    "import numpy as np\n",
    "import pandas as pd\n",
    "import cv2\n",
    "\n",
    "from sklearn.utils import shuffle\n",
    "from matplotlib.patches import Rectangle\n",
    "import matplotlib.pyplot as plt\n",
    "\n",
    "import warnings\n",
    "\n",
    "warnings.simplefilter('ignore')"
   ]
  },
  {
   "cell_type": "markdown",
   "id": "5d5f09f9-5b08-4f1e-a4c6-681c1065f0a2",
   "metadata": {},
   "source": [
    "### Load data\n",
    "\n"
   ]
  },
  {
   "cell_type": "code",
   "execution_count": null,
   "id": "75057e81-41bf-4c08-b5c0-dad5128bdde9",
   "metadata": {},
   "outputs": [],
   "source": [
    "df = pd.read_csv('../input/self-driving-cars/labels_train.csv')\n",
    "df = shuffle(df)\n",
    "df.head()\n"
   ]
  }
 ],
 "metadata": {
  "kernelspec": {
   "display_name": "Python 3 (ipykernel)",
   "language": "python",
   "name": "python3"
  },
  "language_info": {
   "codemirror_mode": {
    "name": "ipython",
    "version": 3
   },
   "file_extension": ".py",
   "mimetype": "text/x-python",
   "name": "python",
   "nbconvert_exporter": "python",
   "pygments_lexer": "ipython3",
   "version": "3.8.19"
  }
 },
 "nbformat": 4,
 "nbformat_minor": 5
}
